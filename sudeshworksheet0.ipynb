{
  "nbformat": 4,
  "nbformat_minor": 0,
  "metadata": {
    "colab": {
      "provenance": []
    },
    "kernelspec": {
      "name": "python3",
      "display_name": "Python 3"
    },
    "language_info": {
      "name": "python"
    }
  },
  "cells": [
    {
      "cell_type": "code",
      "execution_count": 1,
      "metadata": {
        "colab": {
          "base_uri": "https://localhost:8080/"
        },
        "id": "xvOGMFgA-PER",
        "outputId": "3f54172f-4b1f-45fa-ac39-b4fc5a73db7b"
      },
      "outputs": [
        {
          "output_type": "stream",
          "name": "stdout",
          "text": [
            "cold: [8.2, 7.9, 9.0, 8.5, 7.7, 8.4, 9.5, 8.1, 7.6, 8.0, 7.8, 8.7, 9.2, 8.3, 8.9, 7.8]\n",
            "mild: [14.1, 13.5, 13.0, 12.9, 13.3, 14.0, 13.4, 14.2, 12.8, 13.7, 13.6, 13.8, 13.9, 12.7, 13.1, 12.5]\n",
            "comfortable: [17.4, 18.0, 17.8, 16.5, 17.2, 16.7, 18.3, 17.9, 17.0, 16.8, 17.5, 17.1, 18.1, 16.4, 18.2, 16.6]\n",
            "This temp is out of range  []\n"
          ]
        }
      ],
      "source": [
        "temperatures = [ 8.2, 17.4, 14.1, 7.9, 18.0, 13.5, 9.0, 17.8, 13.0, 8.5,16.5, 12.9, 7.7, 17.2, 13.3, 8.4, 16.7, 14.0, 9.5, 18.3,13.4, 8.1, 17.9, 14.2, 7.6, 17.0, 12.8, 8.0, 16.8, 13.7,7.8, 17.5, 13.6, 8.7, 17.1, 13.8, 9.2, 18.1, 13.9, 8.3,16.4, 12.7, 8.9, 18.2, 13.1, 7.8, 16.6, 12.5]\n",
        "cold=[]\n",
        "mild=[]\n",
        "comfortable=[]\n",
        "error=[]\n",
        "for temp in temperatures:\n",
        "  if temp<10:\n",
        "    cold.append(temp)\n",
        "  elif 10<= temp <=15:\n",
        "    mild.append(temp)\n",
        "  elif 15 < temp <= 20:\n",
        "    comfortable.append(temp)\n",
        "  else:\n",
        "     error.append(temp)\n",
        "print(\"cold:\",cold)\n",
        "print(\"mild:\",mild)\n",
        "print(\"comfortable:\",comfortable)\n",
        "print(\"This temp is out of range \",error)"
      ]
    },
    {
      "cell_type": "code",
      "source": [
        "num_mild = len(mild)\n",
        "num_comfortable = len(comfortable)\n",
        "num_cold = len(cold)\n",
        "print(\"number of times mild temperature was recored\",num_mild)\n",
        "print(\"number of times comfortable temperature was recored\",num_comfortable)\n",
        "print(\"number of times cold temperature was recored\",num_cold)"
      ],
      "metadata": {
        "colab": {
          "base_uri": "https://localhost:8080/"
        },
        "id": "RvpdNRRI_Jh7",
        "outputId": "95288071-eace-4d87-8e8e-56d08f8f9e9f"
      },
      "execution_count": 2,
      "outputs": [
        {
          "output_type": "stream",
          "name": "stdout",
          "text": [
            "number of times mild temperature was recored 16\n",
            "number of times comfortable temperature was recored 16\n",
            "number of times cold temperature was recored 16\n"
          ]
        }
      ]
    },
    {
      "cell_type": "code",
      "source": [
        "temp_fahrenheit =[]\n",
        "for temp in temperatures:\n",
        "  fahren=(temp*9/5) + 32\n",
        "  temp_fahrenheit.append(fahren)\n",
        "print(\"temperatures in fahrenheit:\",temp_fahrenheit)"
      ],
      "metadata": {
        "colab": {
          "base_uri": "https://localhost:8080/"
        },
        "id": "al418nrj_Vh2",
        "outputId": "d0299eb3-263b-4ce1-dd89-ad099a4b337c"
      },
      "execution_count": 3,
      "outputs": [
        {
          "output_type": "stream",
          "name": "stdout",
          "text": [
            "temperatures in fahrenheit: [46.76, 63.32, 57.379999999999995, 46.22, 64.4, 56.3, 48.2, 64.04, 55.4, 47.3, 61.7, 55.22, 45.86, 62.959999999999994, 55.94, 47.120000000000005, 62.059999999999995, 57.2, 49.1, 64.94, 56.120000000000005, 46.58, 64.22, 57.56, 45.68, 62.6, 55.04, 46.4, 62.24, 56.66, 46.04, 63.5, 56.48, 47.66, 62.78, 56.84, 48.56, 64.58, 57.02, 46.94, 61.519999999999996, 54.86, 48.02, 64.75999999999999, 55.58, 46.04, 61.88, 54.5]\n"
          ]
        }
      ]
    },
    {
      "cell_type": "code",
      "source": [
        "import matplotlib.pyplot as plt\n",
        "temperatures = [ 8.2, 17.4, 14.1, 7.9, 18.0, 13.5, 9.0, 17.8, 13.0, 8.5,16.5, 12.9, 7.7, 17.2, 13.3, 8.4, 16.7, 14.0, 9.5, 18.3,13.4, 8.1, 17.9, 14.2, 7.6, 17.0, 12.8, 8.0, 16.8, 13.7,7.8, 17.5, 13.6, 8.7, 17.1, 13.8, 9.2, 18.1, 13.9, 8.3,16.4, 12.7, 8.9, 18.2, 13.1, 7.8, 16.6, 12.5]\n",
        "night = []\n",
        "evening = []\n",
        "day = []\n",
        "\n",
        "for i in range(len(temperatures)):\n",
        "    if i % 3 == 0:\n",
        "        night.append(temperatures[i])\n",
        "    elif i % 3 == 1:\n",
        "        evening.append(temperatures[i])\n",
        "    else:\n",
        "        day.append(temperatures[i])\n",
        "\n",
        "average_day_temp = sum(day) / len(day)\n",
        "print(f\"Average day-time temperature: {average_day_temp:.2f}°C\")\n",
        "\n",
        "days = list(range(1, len(day) + 1))\n",
        "plt.figure(figsize=(10, 5))\n",
        "plt.plot(days, day, marker='o', linestyle='-', color='red', label='Day Temperature')\n",
        "plt.title(\"Day vs Temperature\")\n",
        "plt.xlabel(\"Day\")\n",
        "plt.ylabel(\"Temperature (°C)\")\n",
        "plt.grid(True)\n",
        "plt.legend()\n",
        "plt.tight_layout()\n",
        "plt.show()"
      ],
      "metadata": {
        "colab": {
          "base_uri": "https://localhost:8080/",
          "height": 460
        },
        "id": "cJQAa6K8_ZC1",
        "outputId": "307f7d28-99a1-4634-c98f-d64f96f0ab2f"
      },
      "execution_count": 11,
      "outputs": [
        {
          "output_type": "stream",
          "name": "stdout",
          "text": [
            "Average day-time temperature: 13.41°C\n"
          ]
        },
        {
          "output_type": "display_data",
          "data": {
            "text/plain": [
              "<Figure size 1000x500 with 1 Axes>"
            ],
            "image/png": "[encoded data removed]"
          },
          "metadata": {}
        }
      ]
    },
    {
      "cell_type": "code",
      "source": [
        "def sum_nested_list(nested):\n",
        "    total = 0\n",
        "    for element in nested:\n",
        "        if isinstance(element, list):\n",
        "            total += sum_nested_list(element)\n",
        "        else:\n",
        "            total += element\n",
        "    return total\n",
        "\n",
        "\n",
        "nested_list = [1, [2, [3, 4], 5], 6, [7, 8]]\n",
        "result = sum_nested_list(nested_list)\n",
        "print(\"Total sum of nested list:\", result)\n"
      ],
      "metadata": {
        "colab": {
          "base_uri": "https://localhost:8080/"
        },
        "id": "dKQ01t2N_k3X",
        "outputId": "8b6527a5-f22c-4581-9f96-252a3e78ddcf"
      },
      "execution_count": 5,
      "outputs": [
        {
          "output_type": "stream",
          "name": "stdout",
          "text": [
            "Total sum of nested list: 36\n"
          ]
        }
      ]
    },
    {
      "cell_type": "code",
      "source": [
        "def generate_permutations(s):\n",
        "    if len(s) == 1:\n",
        "        return [s]\n",
        "\n",
        "    permutations = []\n",
        "    for i, char in enumerate(s):\n",
        "        remaining = s[:i] + s[i+1:]\n",
        "        for perm in generate_permutations(remaining):\n",
        "            permutations.append(char + perm)\n",
        "\n",
        "    return list(set(permutations))\n",
        "\n",
        "print(generate_permutations(\"abc\"))\n",
        "print(generate_permutations(\"aab\"))\n"
      ],
      "metadata": {
        "colab": {
          "base_uri": "https://localhost:8080/"
        },
        "id": "hhQ1954a_nME",
        "outputId": "56a8280d-5e86-41c6-c583-0986163a32b1"
      },
      "execution_count": 6,
      "outputs": [
        {
          "output_type": "stream",
          "name": "stdout",
          "text": [
            "['cab', 'bca', 'acb', 'abc', 'bac', 'cba']\n",
            "['baa', 'aba', 'aab']\n"
          ]
        }
      ]
    },
    {
      "cell_type": "code",
      "source": [
        "def calculate_directory_size(directory):\n",
        "    total_size = 0\n",
        "    for key, value in directory.items():\n",
        "        if isinstance(value, dict):\n",
        "            total_size += calculate_directory_size(value)\n",
        "        else:\n",
        "            total_size += value\n",
        "    return total_size\n",
        "\n",
        "directory_structure = {\n",
        "    \"file1.txt\": 200,\n",
        "    \"file2.txt\": 300,\n",
        "    \"subdir1\": {\n",
        "        \"file3.txt\": 400,\n",
        "        \"file4.txt\": 100\n",
        "    },\n",
        "    \"subdir2\": {\n",
        "        \"subsubdir1\": {\n",
        "            \"file5.txt\": 250\n",
        "        },\n",
        "        \"file6.txt\": 150\n",
        "    }\n",
        "}\n",
        "\n",
        "directory_size = calculate_directory_size(directory_structure)\n",
        "print(\"Total size of the directory:\", directory_size, \"KB\")"
      ],
      "metadata": {
        "colab": {
          "base_uri": "https://localhost:8080/"
        },
        "id": "quUlzm1k_r4F",
        "outputId": "ba68e5a2-8456-456f-e977-207d7648e6ce"
      },
      "execution_count": 7,
      "outputs": [
        {
          "output_type": "stream",
          "name": "stdout",
          "text": [
            "Total size of the directory: 1400 KB\n"
          ]
        }
      ]
    },
    {
      "cell_type": "code",
      "source": [
        "def min_coins(coins, amount):\n",
        "    dp = [float('inf')] * (amount + 1)\n",
        "    dp[0] = 0\n",
        "    for i in range(1, amount + 1):\n",
        "        for coin in coins:\n",
        "            if i >= coin:\n",
        "                dp[i] = min(dp[i], dp[i - coin] + 1)\n",
        "\n",
        "    return dp[amount] if dp[amount] != float('inf') else -1\n",
        "coins = [1, 2, 5]\n",
        "amount = 11\n",
        "result = min_coins(coins, amount)\n",
        "print(\"Minimum number of coins:\", result)\n"
      ],
      "metadata": {
        "colab": {
          "base_uri": "https://localhost:8080/"
        },
        "id": "f6bR2uW1_yq_",
        "outputId": "e8fe7a03-14c2-4b92-c891-7f0d937cc749"
      },
      "execution_count": 8,
      "outputs": [
        {
          "output_type": "stream",
          "name": "stdout",
          "text": [
            "Minimum number of coins: 3\n"
          ]
        }
      ]
    },
    {
      "cell_type": "code",
      "source": [
        "def longest_common_subsequence(s1, s2):\n",
        "    m, n = len(s1), len(s2)\n",
        "    dp = [[0] * (n + 1) for _ in range(m + 1)]\n",
        "    for i in range(1, m + 1):\n",
        "        for j in range(1, n + 1):\n",
        "            if s1[i - 1] == s2[j - 1]:\n",
        "                dp[i][j] = dp[i - 1][j - 1] + 1\n",
        "            else:\n",
        "                dp[i][j] = max(dp[i - 1][j], dp[i][j - 1])\n",
        "\n",
        "    return dp[m][n]\n",
        "\n",
        "s1 = \"abcde\"\n",
        "s2 = \"ace\"\n",
        "result = longest_common_subsequence(s1, s2)\n",
        "print(\"Length of LCS:\", result)"
      ],
      "metadata": {
        "colab": {
          "base_uri": "https://localhost:8080/"
        },
        "id": "y5oVwwNj_5Ae",
        "outputId": "9ab1f089-155b-45fd-ceb1-1ecbe2b82f9b"
      },
      "execution_count": 10,
      "outputs": [
        {
          "output_type": "stream",
          "name": "stdout",
          "text": [
            "Length of LCS: 3\n"
          ]
        }
      ]
    },
    {
      "cell_type": "code",
      "source": [
        "def knapsack(weights, values, capacity):\n",
        "    n = len(weights)\n",
        "    dp = [[0] * (capacity + 1) for _ in range(n + 1)]\n",
        "    for i in range(1, n + 1):\n",
        "        for w in range(1, capacity + 1):\n",
        "            if weights[i - 1] <= w:\n",
        "                dp[i][w] = max(dp[i - 1][w], values[i - 1] + dp[i - 1][w - weights[i - 1]])\n",
        "            else:\n",
        "                dp[i][w] = dp[i - 1][w]\n",
        "\n",
        "    return dp[n][capacity]\n",
        "weights = [1, 3, 4, 5]\n",
        "values = [1, 4, 5, 7]\n",
        "capacity = 7\n",
        "result = knapsack(weights, values, capacity)\n",
        "print(\"Maximum value in knapsack:\", result)"
      ],
      "metadata": {
        "colab": {
          "base_uri": "https://localhost:8080/"
        },
        "id": "EBcxs3WXAAL5",
        "outputId": "e685fff1-a1ed-4103-9e0c-e5c2193db79a"
      },
      "execution_count": 9,
      "outputs": [
        {
          "output_type": "stream",
          "name": "stdout",
          "text": [
            "Maximum value in knapsack: 9\n"
          ]
        }
      ]
    }
  ]
}